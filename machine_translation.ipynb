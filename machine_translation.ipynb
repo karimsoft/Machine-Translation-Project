{
 "cells": [
  {
   "cell_type": "markdown",
   "metadata": {
    "collapsed": true
   },
   "source": [
    "# Artificial Intelligence Nanodegree\n",
    "## Machine Translation Project\n",
    "In this notebook, sections that end with **'(IMPLEMENTATION)'** in the header indicate that the following blocks of code will require additional functionality which you must provide. Please be sure to read the instructions carefully!\n",
    "\n",
    "## Introduction\n",
    "In this notebook, you will build a deep neural network that functions as part of an end-to-end machine translation pipeline. Your completed pipeline will accept English text as input and return the French translation.\n",
    "\n",
    "- **Preprocess** - You'll convert text to sequence of integers.\n",
    "- **Models** Create models which accepts a sequence of integers as input and returns a probability distribution over possible translations. After learning about the basic types of neural networks that are often used for machine translation, you will engage in your own investigations, to design your own model!\n",
    "- **Prediction** Run the model on English text.\n",
    "\n",
    "# الذكاء الاصطناعي نانودرجة\n",
    "## مشروع الترجمة الآلية\n",
    "في دفتر الملاحظات هذا، تشير المقاطع التي تنتهي بـ **'(IMPLEMENTATION)'** في الرأس إلى أن كتل التعليمات البرمجية التالية ستتطلب وظائف إضافية يجب توفيرها. يرجى التأكد من قراءة التعليمات بعناية!\n",
    "\n",
    "## مقدمة\n",
    "في هذا الكمبيوتر المحمول، سوف تقوم ببناء شبكة عصبية عميقة تعمل كجزء من خط أنابيب الترجمة الآلية من النهاية إلى النهاية. سوف يقبل خط الأنابيب المكتمل النص الإنكليزي كإدخال وإرجاع الترجمة الفرنسية.\n",
    "\n",
    "- ** ما قبل العملية ** - عليك تحويل النص إلى تسلسل من الأعداد الصحيحة.\n",
    "- ** نماذج ** إنشاء النماذج التي تقبل سلسلة من الأعداد الصحيحة كمدخلات وإرجاع توزيع احتمال على الترجمات المحتملة. بعد معرفة الأنواع الأساسية من الشبكات العصبية التي غالبا ما تستخدم للترجمة الآلية، سوف تشارك في التحقيقات الخاصة بك، لتصميم النموذج الخاص بك!\n",
    "- ** التنبؤ ** تشغيل النموذج على النص الإنجليزي."
   ]
  },
  {
   "cell_type": "code",
   "execution_count": 1,
   "metadata": {},
   "outputs": [],
   "source": [
    "%load_ext autoreload\n",
    "%aimport helper, tests\n",
    "%autoreload 1"
   ]
  },
  {
   "cell_type": "code",
   "execution_count": 2,
   "metadata": {},
   "outputs": [
    {
     "name": "stderr",
     "output_type": "stream",
     "text": [
      "Using TensorFlow backend.\n"
     ]
    }
   ],
   "source": [
    "import collections\n",
    "\n",
    "import helper\n",
    "import numpy as np\n",
    "import project_tests as tests\n",
    "\n",
    "from keras.preprocessing.text import Tokenizer\n",
    "from keras.preprocessing.sequence import pad_sequences\n",
    "from keras.models import Model\n",
    "from keras.layers import GRU, Input, Dense, TimeDistributed, Activation, RepeatVector, Bidirectional\n",
    "from keras.layers.embeddings import Embedding\n",
    "from keras.optimizers import Adam\n",
    "from keras.losses import sparse_categorical_crossentropy"
   ]
  },
  {
   "cell_type": "markdown",
   "metadata": {},
   "source": [
    "### Verify access to the GPU\n",
    "The following test applies only if you expect to be using a GPU, e.g., while running in a Udacity Workspace or using an AWS instance with GPU support. Run the next cell, and verify that the device_type is \"GPU\".\n",
    "- If the device is not GPU & you are running from a Udacity Workspace, then save your workspace with the icon at the top, then click \"enable\" at the bottom of the workspace.\n",
    "- If the device is not GPU & you are running from an AWS instance, then refer to the cloud computing instructions in the classroom to verify your setup steps.\n",
    "### تحقق من الوصول إلى GPU\n",
    "يتم تطبيق الاختبار التالي فقط إذا كنت تتوقع استخدام GPU، على سبيل المثال، أثناء التشغيل في مساحة عمل Udacity أو استخدام مثيل AWS مع دعم GPU. قم بتشغيل الخلية التالية، وتحقق من أن device_type هو \"GPU\".\n",
    "- إذا كان الجهاز ليس GPU وكنت تعمل من مساحة عمل Udacity، ثم حفظ مساحة العمل الخاصة بك مع الرمز في الجزء العلوي، ثم انقر فوق \"enable\" في الجزء السفلي من مساحة العمل.\n",
    "- إذا كان الجهاز ليس GPU وكنت تعمل من مثيل AWS، ثم الرجوع إلى تعليمات الحوسبة السحابية في الفصول الدراسية للتحقق من خطوات الإعداد الخاصة بك."
   ]
  },
  {
   "cell_type": "code",
   "execution_count": 3,
   "metadata": {},
   "outputs": [
    {
     "name": "stdout",
     "output_type": "stream",
     "text": [
      "[name: \"/cpu:0\"\n",
      "device_type: \"CPU\"\n",
      "memory_limit: 268435456\n",
      "locality {\n",
      "}\n",
      "incarnation: 10089687387880170684\n",
      ", name: \"/gpu:0\"\n",
      "device_type: \"GPU\"\n",
      "memory_limit: 357433344\n",
      "locality {\n",
      "  bus_id: 1\n",
      "}\n",
      "incarnation: 8891615632673000916\n",
      "physical_device_desc: \"device: 0, name: Tesla K80, pci bus id: 0000:00:04.0\"\n",
      "]\n"
     ]
    }
   ],
   "source": [
    "from tensorflow.python.client import device_lib\n",
    "print(device_lib.list_local_devices())"
   ]
  },
  {
   "cell_type": "markdown",
   "metadata": {},
   "source": [
    "## Dataset\n",
    "We begin by investigating the dataset that will be used to train and evaluate your pipeline.  The most common datasets used for machine translation are from [WMT](http://www.statmt.org/).  However, that will take a long time to train a neural network on.  We'll be using a dataset we created for this project that contains a small vocabulary.  You'll be able to train your model in a reasonable time with this dataset.\n",
    "### Load Data\n",
    "The data is located in `data/small_vocab_en` and `data/small_vocab_fr`. The `small_vocab_en` file contains English sentences with their French translations in the `small_vocab_fr` file. Load the English and French data from these files from running the cell below.\n",
    "## مجموعة البيانات\n",
    "نبدأ بالتحقيق في مجموعة البيانات التي سيتم استخدامها لتدريب وتقييم خط الأنابيب الخاص بك.  ومجموعات البيانات الأكثر شيوعا المستخدمة في الترجمة الآلية هي من [WMT] (http://www.statmt.org/).  ومع ذلك، فإن ذلك سيستغرق وقتا طويلا لتدريب شبكة عصبية على.  سنستخدم مجموعة بيانات أنشأناها لهذا المشروع الذي يحتوي على مفردات صغيرة.  عليك أن تكون قادرا على تدريب النموذج الخاص بك في وقت معقول مع هذه المجموعة من البيانات.\n",
    "### تحميل البيانات\n",
    "وتقع البيانات في 'البيانات/small_vocab_en' و 'البيانات/small_vocab_fr'. يحتوي الملف 'small_vocab_en' على جمل باللغة الإنجليزية مع ترجماتها الفرنسية في الملف 'small_vocab_fr'. تحميل البيانات الإنكليزية والفرنسية من هذه الملفات من تشغيل الخلية أدناه."
   ]
  },
  {
   "cell_type": "code",
   "execution_count": 4,
   "metadata": {},
   "outputs": [
    {
     "name": "stdout",
     "output_type": "stream",
     "text": [
      "Dataset Loaded\n"
     ]
    }
   ],
   "source": [
    "# Load English data\n",
    "english_sentences = helper.load_data('data/small_vocab_en')\n",
    "# Load French data\n",
    "french_sentences = helper.load_data('data/small_vocab_fr')\n",
    "\n",
    "print('Dataset Loaded')"
   ]
  },
  {
   "cell_type": "markdown",
   "metadata": {},
   "source": [
    "### Files\n",
    "Each line in `small_vocab_en` contains an English sentence with the respective translation in each line of `small_vocab_fr`.  View the first two lines from each file.\n",
    "### الملفات\n",
    "كل سطر في 'small_vocab_en' يحتوي على جملة اللغة الإنجليزية مع الترجمة ذات الصلة في كل سطر من 'small_vocab_fr'.  عرض السطرين الأولين من كل ملف."
   ]
  },
  {
   "cell_type": "code",
   "execution_count": 5,
   "metadata": {},
   "outputs": [
    {
     "name": "stdout",
     "output_type": "stream",
     "text": [
      "small_vocab_en Line 1:  new jersey is sometimes quiet during autumn , and it is snowy in april .\n",
      "small_vocab_fr Line 1:  new jersey est parfois calme pendant l' automne , et il est neigeux en avril .\n",
      "small_vocab_en Line 2:  the united states is usually chilly during july , and it is usually freezing in november .\n",
      "small_vocab_fr Line 2:  les états-unis est généralement froid en juillet , et il gèle habituellement en novembre .\n"
     ]
    }
   ],
   "source": [
    "for sample_i in range(2):\n",
    "    print('small_vocab_en Line {}:  {}'.format(sample_i + 1, english_sentences[sample_i]))\n",
    "    print('small_vocab_fr Line {}:  {}'.format(sample_i + 1, french_sentences[sample_i]))"
   ]
  },
  {
   "cell_type": "markdown",
   "metadata": {},
   "source": [
    "From looking at the sentences, you can see they have been preprocessed already.  The puncuations have been delimited using spaces. All the text have been converted to lowercase.  This should save you some time, but the text requires more preprocessing.\n",
    "### Vocabulary\n",
    "The complexity of the problem is determined by the complexity of the vocabulary.  A more complex vocabulary is a more complex problem.  Let's look at the complexity of the dataset we'll be working with.\n",
    "\n",
    "من النظر إلى الجمل، يمكنك أن ترى أنها قد تم معالجتها مسبقا بالفعل.  تم تحديد التورية باستخدام المساحات. تم تحويل كافة النص إلى أحرف صغيرة.  هذا يجب أن يوفر لك بعض الوقت، ولكن النص يتطلب المزيد من المعالجة المسبقة.\n",
    "### المفردات\n",
    "يتم تحديد تعقيد المشكلة من خلال تعقيد المفردات.  المفردات الأكثر تعقيدا هي مشكلة أكثر تعقيدا.  دعونا ننظر في تعقيد مجموعة البيانات التي سنعمل معها."
   ]
  },
  {
   "cell_type": "code",
   "execution_count": 6,
   "metadata": {},
   "outputs": [
    {
     "name": "stdout",
     "output_type": "stream",
     "text": [
      "1823250 English words.\n",
      "227 unique English words.\n",
      "10 Most common words in the English dataset:\n",
      "\"is\" \",\" \".\" \"in\" \"it\" \"during\" \"the\" \"but\" \"and\" \"sometimes\"\n",
      "\n",
      "1961295 French words.\n",
      "355 unique French words.\n",
      "10 Most common words in the French dataset:\n",
      "\"est\" \".\" \",\" \"en\" \"il\" \"les\" \"mais\" \"et\" \"la\" \"parfois\"\n"
     ]
    }
   ],
   "source": [
    "english_words_counter = collections.Counter([word for sentence in english_sentences for word in sentence.split()])\n",
    "french_words_counter = collections.Counter([word for sentence in french_sentences for word in sentence.split()])\n",
    "\n",
    "print('{} English words.'.format(len([word for sentence in english_sentences for word in sentence.split()])))\n",
    "print('{} unique English words.'.format(len(english_words_counter)))\n",
    "print('10 Most common words in the English dataset:')\n",
    "print('\"' + '\" \"'.join(list(zip(*english_words_counter.most_common(10)))[0]) + '\"')\n",
    "print()\n",
    "print('{} French words.'.format(len([word for sentence in french_sentences for word in sentence.split()])))\n",
    "print('{} unique French words.'.format(len(french_words_counter)))\n",
    "print('10 Most common words in the French dataset:')\n",
    "print('\"' + '\" \"'.join(list(zip(*french_words_counter.most_common(10)))[0]) + '\"')"
   ]
  },
  {
   "cell_type": "markdown",
   "metadata": {},
   "source": [
    "For comparison, _Alice's Adventures in Wonderland_ contains 2,766 unique words of a total of 15,500 words.\n",
    "## Preprocess\n",
    "For this project, you won't use text data as input to your model. Instead, you'll convert the text into sequences of integers using the following preprocess methods:\n",
    "1. Tokenize the words into ids\n",
    "2. Add padding to make all the sequences the same length.\n",
    "\n",
    "Time to start preprocessing the data...\n",
    "### Tokenize (IMPLEMENTATION)\n",
    "For a neural network to predict on text data, it first has to be turned into data it can understand. Text data like \"dog\" is a sequence of ASCII character encodings.  Since a neural network is a series of multiplication and addition operations, the input data needs to be number(s).\n",
    "\n",
    "We can turn each character into a number or each word into a number.  These are called character and word ids, respectively.  Character ids are used for character level models that generate text predictions for each character.  A word level model uses word ids that generate text predictions for each word.  Word level models tend to learn better, since they are lower in complexity, so we'll use those.\n",
    "\n",
    "Turn each sentence into a sequence of words ids using Keras's [`Tokenizer`](https://keras.io/preprocessing/text/#tokenizer) function. Use this function to tokenize `english_sentences` and `french_sentences` in the cell below.\n",
    "\n",
    "Running the cell will run `tokenize` on sample data and show output for debugging.\n",
    "\n",
    "للمقارنة، مغامرات _Alice في بلاد العجائب_ يحتوي على 2766 كلمة فريدة من نوعها من ما مجموعه 15500 كلمة.\n",
    "## عملية تمهيدية\n",
    "لهذا المشروع، لن تستخدم البيانات النصية كإدخال للطراز الخاص بك. بدلاً من ذلك، يمكنك تحويل النص إلى تسلسلات من الأعداد الصحيحة باستخدام أساليب ما قبل العملية التالية:\n",
    "1. الرمز المميز للكلمات في هويات\n",
    "2. إضافة الحشو لجعل جميع تسلسل نفس الطول.\n",
    "\n",
    "حان وقت بدء المعالجة المسبقة للبيانات...\n",
    "### الرمز المميز (التنفيذ)\n",
    "لكي تتنبأ الشبكة العصبية بالبيانات النصية، يجب أولاً تحويلها إلى بيانات يمكن أن تفهمها. البيانات النصية مثل \"dog\" هو تسلسل ترميزات أحرف ASCII.  وبما أن الشبكة العصبية هي سلسلة من عمليات الضرب والإضافة، يجب أن تكون بيانات الإدخال رقمًا (أرقامًا).\n",
    "\n",
    "يمكننا تحويل كل حرف إلى رقم أو كل كلمة إلى رقم.  وتسمى هذه الأحرف ومعرف الكلمة، على التوالي.  يتم استخدام معرّف الأحرف لنماذج مستوى الأحرف التي تقوم بإنشاء تنبؤات نصية لكل حرف.  يستخدم نموذج مستوى الكلمة معرّف الكلمات التي تنشئ تنبؤات نصية لكل كلمة.  نماذج مستوى الكلمة تميل إلى تعلم أفضل، لأنها أقل في التعقيد، لذلك سوف نستخدم تلك.\n",
    "\n",
    "تحويل كل جملة إلى سلسلة من الكلمات الهوية باستخدام Keras 'Tokenizer'] (https://keras.io/preprocessing/text/#tokenizer) وظيفة. استخدم هذه الدالة لترميز 'english_sentences' و 'french_sentences' في الخلية أدناه.\n",
    "\n",
    "سيتم تشغيل الخلية 'tokenize' على نموذج البيانات وإظهار الإخراج لتصحيح الأخطاء."
   ]
  },
  {
   "cell_type": "code",
   "execution_count": 7,
   "metadata": {},
   "outputs": [
    {
     "name": "stdout",
     "output_type": "stream",
     "text": [
      "{'the': 1, 'quick': 2, 'a': 3, 'brown': 4, 'fox': 5, 'jumps': 6, 'over': 7, 'lazy': 8, 'dog': 9, 'by': 10, 'jove': 11, 'my': 12, 'study': 13, 'of': 14, 'lexicography': 15, 'won': 16, 'prize': 17, 'this': 18, 'is': 19, 'short': 20, 'sentence': 21}\n",
      "\n",
      "Sequence 1 in x\n",
      "  Input:  The quick brown fox jumps over the lazy dog .\n",
      "  Output: [1, 2, 4, 5, 6, 7, 1, 8, 9]\n",
      "Sequence 2 in x\n",
      "  Input:  By Jove , my quick study of lexicography won a prize .\n",
      "  Output: [10, 11, 12, 2, 13, 14, 15, 16, 3, 17]\n",
      "Sequence 3 in x\n",
      "  Input:  This is a short sentence .\n",
      "  Output: [18, 19, 3, 20, 21]\n"
     ]
    }
   ],
   "source": [
    "def tokenize(x):\n",
    "    \"\"\"\n",
    "    Tokenize x\n",
    "    :param x: List of sentences/strings to be tokenized\n",
    "    :return: Tuple of (tokenized x data, tokenizer used to tokenize x)\n",
    "    \"\"\"\n",
    "    # TODO: Implement\n",
    "    x_tk = Tokenizer()\n",
    "    x_tk.fit_on_texts(x)\n",
    "\n",
    "    return x_tk.texts_to_sequences(x), x_tk\n",
    "tests.test_tokenize(tokenize)\n",
    "\n",
    "# Tokenize Example output\n",
    "text_sentences = [\n",
    "    'The quick brown fox jumps over the lazy dog .',\n",
    "    'By Jove , my quick study of lexicography won a prize .',\n",
    "    'This is a short sentence .']\n",
    "text_tokenized, text_tokenizer = tokenize(text_sentences)\n",
    "print(text_tokenizer.word_index)\n",
    "print()\n",
    "for sample_i, (sent, token_sent) in enumerate(zip(text_sentences, text_tokenized)):\n",
    "    print('Sequence {} in x'.format(sample_i + 1))\n",
    "    print('  Input:  {}'.format(sent))\n",
    "    print('  Output: {}'.format(token_sent))"
   ]
  },
  {
   "cell_type": "markdown",
   "metadata": {},
   "source": [
    "### Padding (IMPLEMENTATION)\n",
    "When batching the sequence of word ids together, each sequence needs to be the same length.  Since sentences are dynamic in length, we can add padding to the end of the sequences to make them the same length.\n",
    "\n",
    "Make sure all the English sequences have the same length and all the French sequences have the same length by adding padding to the **end** of each sequence using Keras's [`pad_sequences`](https://keras.io/preprocessing/sequence/#pad_sequences) function.\n",
    "### الحشو (التنفيذ)\n",
    "عند تجميع تسلسل معرّف الكلمة معاً، يجب أن يكون كل تسلسل بنفس الطول.  بما أن الجمل ديناميكية في الطول، يمكننا إضافة الحشو إلى نهاية التسلسلات لجعلها بنفس الطول.\n",
    "\n",
    "تأكد من أن كافة التسلسلات الإنجليزية لها نفس الطول وأن كافة التسلسلات الفرنسية لها نفس الطول عن طريق إضافة الحشو إلى نهاية **** من كل تسلسل باستخدام وظيفة Keras ['pad_sequence'](https://keras.io/preprocessing/sequence/#pad_sequences)."
   ]
  },
  {
   "cell_type": "code",
   "execution_count": 8,
   "metadata": {},
   "outputs": [
    {
     "name": "stdout",
     "output_type": "stream",
     "text": [
      "Sequence 1 in x\n",
      "  Input:  [1 2 4 5 6 7 1 8 9]\n",
      "  Output: [1 2 4 5 6 7 1 8 9 0]\n",
      "Sequence 2 in x\n",
      "  Input:  [10 11 12  2 13 14 15 16  3 17]\n",
      "  Output: [10 11 12  2 13 14 15 16  3 17]\n",
      "Sequence 3 in x\n",
      "  Input:  [18 19  3 20 21]\n",
      "  Output: [18 19  3 20 21  0  0  0  0  0]\n"
     ]
    }
   ],
   "source": [
    "def pad(x, length=None):\n",
    "    \"\"\"\n",
    "    Pad x\n",
    "    :param x: List of sequences.\n",
    "    :param length: Length to pad the sequence to.  If None, use length of longest sequence in x.\n",
    "    :return: Padded numpy array of sequences\n",
    "    \"\"\"\n",
    "    # TODO: Implement\n",
    "    if length is None:\n",
    "        length = max([len(sentence) for sentence in x])\n",
    "    return pad_sequences(x, maxlen=length, padding='post')\n",
    "tests.test_pad(pad)\n",
    "\n",
    "# Pad Tokenized output\n",
    "test_pad = pad(text_tokenized)\n",
    "for sample_i, (token_sent, pad_sent) in enumerate(zip(text_tokenized, test_pad)):\n",
    "    print('Sequence {} in x'.format(sample_i + 1))\n",
    "    print('  Input:  {}'.format(np.array(token_sent)))\n",
    "    print('  Output: {}'.format(pad_sent))"
   ]
  },
  {
   "cell_type": "markdown",
   "metadata": {},
   "source": [
    "### Preprocess Pipeline\n",
    "Your focus for this project is to build neural network architecture, so we won't ask you to create a preprocess pipeline.  Instead, we've provided you with the implementation of the `preprocess` function.\n",
    "### خط أنابيب ما قبل العملية\n",
    "تركيزك لهذا المشروع هو بناء بنية الشبكة العصبية، لذلك نحن لن نطلب منك إنشاء خط أنابيب ما قبل العملية.  بدلاً من ذلك، قدمنا لك تنفيذ وظيفة \"ما قبل العملية\"."
   ]
  },
  {
   "cell_type": "code",
   "execution_count": 9,
   "metadata": {},
   "outputs": [
    {
     "name": "stdout",
     "output_type": "stream",
     "text": [
      "Data Preprocessed\n",
      "Max English sentence length: 15\n",
      "Max French sentence length: 21\n",
      "English vocabulary size: 199\n",
      "French vocabulary size: 344\n"
     ]
    }
   ],
   "source": [
    "def preprocess(x, y):\n",
    "    \"\"\"\n",
    "    Preprocess x and y\n",
    "    :param x: Feature List of sentences\n",
    "    :param y: Label List of sentences\n",
    "    :return: Tuple of (Preprocessed x, Preprocessed y, x tokenizer, y tokenizer)\n",
    "    \"\"\"\n",
    "    preprocess_x, x_tk = tokenize(x)\n",
    "    preprocess_y, y_tk = tokenize(y)\n",
    "\n",
    "    preprocess_x = pad(preprocess_x)\n",
    "    preprocess_y = pad(preprocess_y)\n",
    "\n",
    "    # Keras's sparse_categorical_crossentropy function requires the labels to be in 3 dimensions\n",
    "    preprocess_y = preprocess_y.reshape(*preprocess_y.shape, 1)\n",
    "\n",
    "    return preprocess_x, preprocess_y, x_tk, y_tk\n",
    "\n",
    "preproc_english_sentences, preproc_french_sentences, english_tokenizer, french_tokenizer =\\\n",
    "    preprocess(english_sentences, french_sentences)\n",
    "    \n",
    "max_english_sequence_length = preproc_english_sentences.shape[1]\n",
    "max_french_sequence_length = preproc_french_sentences.shape[1]\n",
    "english_vocab_size = len(english_tokenizer.word_index)\n",
    "french_vocab_size = len(french_tokenizer.word_index)\n",
    "\n",
    "print('Data Preprocessed')\n",
    "print(\"Max English sentence length:\", max_english_sequence_length)\n",
    "print(\"Max French sentence length:\", max_french_sequence_length)\n",
    "print(\"English vocabulary size:\", english_vocab_size)\n",
    "print(\"French vocabulary size:\", french_vocab_size)"
   ]
  },
  {
   "cell_type": "markdown",
   "metadata": {},
   "source": [
    "## Models\n",
    "In this section, you will experiment with various neural network architectures.\n",
    "You will begin by training four relatively simple architectures.\n",
    "- Model 1 is a simple RNN\n",
    "- Model 2 is a RNN with Embedding\n",
    "- Model 3 is a Bidirectional RNN\n",
    "- Model 4 is an optional Encoder-Decoder RNN\n",
    "\n",
    "After experimenting with the four simple architectures, you will construct a deeper architecture that is designed to outperform all four models.\n",
    "### Ids Back to Text\n",
    "The neural network will be translating the input to words ids, which isn't the final form we want.  We want the French translation.  The function `logits_to_text` will bridge the gab between the logits from the neural network to the French translation.  You'll be using this function to better understand the output of the neural network.\n",
    "\n",
    "## الموديلات\n",
    "في هذا القسم، سوف تجرب ة مع مختلف بنيات الشبكات العصبية.\n",
    "سوف تبدأ بتدريب أربعة الهندسة المعمارية بسيطة نسبيا.\n",
    "- نموذج 1 هو RNN بسيطة\n",
    "- الموديل 2 هو RNN مع التضمين\n",
    "- النموذج 3 هو RNN ثنائي الاتجاه\n",
    "- نموذج 4 هو اختياري التشفير فك RNN\n",
    "\n",
    "بعد تجربة البنى الأربعة البسيطة، سوف تبني بنية أعمق تم تصميمها لتتفوق على جميع النماذج الأربعة.\n",
    "### المعرف مرة أخرى إلى النص\n",
    "الشبكة العصبية سوف تترجم الإدخال إلى هويات الكلمات، والتي ليست الشكل النهائي الذي نريده.  نريد الترجمة الفرنسية.  وظيفة 'logits_to_text' سيتم جسر غاب بين logits من الشبكة العصبية إلى الترجمة الفرنسية.  عليك أن تستخدم هذه الوظيفة لفهم أفضل لإخراج الشبكة العصبية."
   ]
  },
  {
   "cell_type": "code",
   "execution_count": 10,
   "metadata": {},
   "outputs": [
    {
     "name": "stdout",
     "output_type": "stream",
     "text": [
      "`logits_to_text` function loaded.\n"
     ]
    }
   ],
   "source": [
    "def logits_to_text(logits, tokenizer):\n",
    "    \"\"\"\n",
    "    Turn logits from a neural network into text using the tokenizer\n",
    "    :param logits: Logits from a neural network\n",
    "    :param tokenizer: Keras Tokenizer fit on the labels\n",
    "    :return: String that represents the text of the logits\n",
    "    \"\"\"\n",
    "    index_to_words = {id: word for word, id in tokenizer.word_index.items()}\n",
    "    index_to_words[0] = '<PAD>'\n",
    "\n",
    "    return ' '.join([index_to_words[prediction] for prediction in np.argmax(logits, 1)])\n",
    "\n",
    "print('`logits_to_text` function loaded.')"
   ]
  },
  {
   "cell_type": "markdown",
   "metadata": {},
   "source": [
    "### Model 1: RNN (IMPLEMENTATION)\n",
    "![RNN](images/rnn.png)\n",
    "A basic RNN model is a good baseline for sequence data.  In this model, you'll build a RNN that translates English to French.\n",
    "\n",
    "### الموديل 1: RNN (التنفيذ)\n",
    "نموذج RNN الأساسي هو خط أساس جيد لبيانات التسلسل.  في هذا النموذج، عليك بناء RNN الذي يترجم الإنجليزية إلى الفرنسية."
   ]
  },
  {
   "cell_type": "code",
   "execution_count": 11,
   "metadata": {},
   "outputs": [
    {
     "name": "stdout",
     "output_type": "stream",
     "text": [
      "Train on 110288 samples, validate on 27573 samples\n",
      "Epoch 1/10\n",
      "110288/110288 [==============================] - 15s 139us/step - loss: 1.6341 - acc: 0.5881 - val_loss: nan - val_acc: 0.6561\n",
      "Epoch 2/10\n",
      "110288/110288 [==============================] - 13s 117us/step - loss: 1.0786 - acc: 0.6645 - val_loss: nan - val_acc: 0.6777\n",
      "Epoch 3/10\n",
      "110288/110288 [==============================] - 13s 117us/step - loss: 0.9519 - acc: 0.6867 - val_loss: nan - val_acc: 0.7052\n",
      "Epoch 4/10\n",
      "110288/110288 [==============================] - 13s 117us/step - loss: 0.8878 - acc: 0.6992 - val_loss: nan - val_acc: 0.6947\n",
      "Epoch 5/10\n",
      "110288/110288 [==============================] - 13s 117us/step - loss: 0.8463 - acc: 0.7080 - val_loss: nan - val_acc: 0.7030\n",
      "Epoch 6/10\n",
      "110288/110288 [==============================] - 13s 118us/step - loss: 0.8025 - acc: 0.7140 - val_loss: nan - val_acc: 0.7163\n",
      "Epoch 7/10\n",
      "110288/110288 [==============================] - 13s 117us/step - loss: 0.7681 - acc: 0.7284 - val_loss: nan - val_acc: 0.7332\n",
      "Epoch 8/10\n",
      "110288/110288 [==============================] - 13s 117us/step - loss: 0.7421 - acc: 0.7411 - val_loss: nan - val_acc: 0.7836\n",
      "Epoch 9/10\n",
      "110288/110288 [==============================] - 13s 117us/step - loss: 0.7021 - acc: 0.7572 - val_loss: nan - val_acc: 0.7153\n",
      "Epoch 10/10\n",
      "110288/110288 [==============================] - 13s 117us/step - loss: 0.7107 - acc: 0.7466 - val_loss: nan - val_acc: 0.7585\n",
      "new jersey est parfois calme pendant mois de et et il en avril avril <PAD> <PAD> <PAD> <PAD> <PAD> <PAD> <PAD>\n"
     ]
    }
   ],
   "source": [
    "def simple_model(input_shape, output_sequence_length, english_vocab_size, french_vocab_size):\n",
    "    \"\"\"         \n",
    "    Build and train a basic RNN on x and y\n",
    "    :param input_shape: Tuple of input shape\n",
    "    :param output_sequence_length: Length of output sequence\n",
    "    :param english_vocab_size: Number of unique English words in the dataset\n",
    "    :param french_vocab_size: Number of unique French words in the dataset\n",
    "    :return: Keras model built, but not trained\n",
    "    \"\"\"\n",
    "    # TODO: Build the layers\n",
    "    learning_rate = 0.01\n",
    "\n",
    "    input_seq = Input(input_shape[1:])\n",
    "    rnn = GRU(french_vocab_size, return_sequences=True)(input_seq)\n",
    "    logits = TimeDistributed(Dense(french_vocab_size))(rnn)\n",
    "\n",
    "    model = Model(input_seq, Activation('softmax')(logits))\n",
    "    model.compile(loss=sparse_categorical_crossentropy,\n",
    "                  optimizer=Adam(learning_rate),\n",
    "                  metrics=['accuracy'])\n",
    "    return model\n",
    "tests.test_simple_model(simple_model)\n",
    "\n",
    "# Reshaping the input to work with a basic RNN\n",
    "tmp_x = pad(preproc_english_sentences, max_french_sequence_length)\n",
    "tmp_x = tmp_x.reshape((-1, preproc_french_sentences.shape[-2], 1))\n",
    "\n",
    "# Train the neural network\n",
    "simple_rnn_model = simple_model(\n",
    "    tmp_x.shape,\n",
    "    max_french_sequence_length,\n",
    "    english_vocab_size,\n",
    "    french_vocab_size)\n",
    "simple_rnn_model.fit(tmp_x, preproc_french_sentences, batch_size=1024, epochs=10, validation_split=0.2)\n",
    "\n",
    "# Print prediction(s)\n",
    "print(logits_to_text(simple_rnn_model.predict(tmp_x[:1])[0], french_tokenizer))"
   ]
  },
  {
   "cell_type": "code",
   "execution_count": 12,
   "metadata": {},
   "outputs": [
    {
     "name": "stdout",
     "output_type": "stream",
     "text": [
      "Model Accuracy: 75.98%\n"
     ]
    }
   ],
   "source": [
    "simple_rnn_model_scores = simple_rnn_model.evaluate(tmp_x, preproc_french_sentences, verbose=0)\n",
    "print(\"Model Accuracy: %.2f%%\" % (simple_rnn_model_scores[1]*100))"
   ]
  },
  {
   "cell_type": "markdown",
   "metadata": {},
   "source": [
    "### Model 2: Embedding (IMPLEMENTATION)\n",
    "![RNN](images/embedding.png)\n",
    "You've turned the words into ids, but there's a better representation of a word.  This is called word embeddings.  An embedding is a vector representation of the word that is close to similar words in n-dimensional space, where the n represents the size of the embedding vectors.\n",
    "\n",
    "In this model, you'll create a RNN model using embedding."
   ]
  },
  {
   "cell_type": "code",
   "execution_count": 13,
   "metadata": {},
   "outputs": [
    {
     "name": "stdout",
     "output_type": "stream",
     "text": [
      "_________________________________________________________________\n",
      "Layer (type)                 Output Shape              Param #   \n",
      "=================================================================\n",
      "input_3 (InputLayer)         (None, 21)                0         \n",
      "_________________________________________________________________\n",
      "embedding_1 (Embedding)      (None, 21, 64)            12736     \n",
      "_________________________________________________________________\n",
      "gru_3 (GRU)                  (None, 21, 344)           422088    \n",
      "_________________________________________________________________\n",
      "time_distributed_3 (TimeDist (None, 21, 344)           118680    \n",
      "=================================================================\n",
      "Total params: 553,504\n",
      "Trainable params: 553,504\n",
      "Non-trainable params: 0\n",
      "_________________________________________________________________\n",
      "_________________________________________________________________\n",
      "Layer (type)                 Output Shape              Param #   \n",
      "=================================================================\n",
      "input_4 (InputLayer)         (None, 21)                0         \n",
      "_________________________________________________________________\n",
      "embedding_2 (Embedding)      (None, 21, 64)            12736     \n",
      "_________________________________________________________________\n",
      "gru_4 (GRU)                  (None, 21, 344)           422088    \n",
      "_________________________________________________________________\n",
      "time_distributed_4 (TimeDist (None, 21, 344)           118680    \n",
      "=================================================================\n",
      "Total params: 553,504\n",
      "Trainable params: 553,504\n",
      "Non-trainable params: 0\n",
      "_________________________________________________________________\n",
      "Train on 110288 samples, validate on 27573 samples\n",
      "Epoch 1/10\n",
      "110288/110288 [==============================] - 14s 129us/step - loss: 3.1934 - acc: 0.4325 - val_loss: nan - val_acc: 0.4773\n",
      "Epoch 2/10\n",
      "110288/110288 [==============================] - 14s 125us/step - loss: 2.1808 - acc: 0.5241 - val_loss: nan - val_acc: 0.5891\n",
      "Epoch 3/10\n",
      "110288/110288 [==============================] - 14s 126us/step - loss: 1.4467 - acc: 0.6449 - val_loss: nan - val_acc: 0.6934\n",
      "Epoch 4/10\n",
      "110288/110288 [==============================] - 14s 126us/step - loss: 1.0793 - acc: 0.7323 - val_loss: nan - val_acc: 0.7663\n",
      "Epoch 5/10\n",
      "110288/110288 [==============================] - 14s 126us/step - loss: 0.7954 - acc: 0.7932 - val_loss: nan - val_acc: 0.8148\n",
      "Epoch 6/10\n",
      "110288/110288 [==============================] - 14s 126us/step - loss: 0.6103 - acc: 0.8321 - val_loss: nan - val_acc: 0.8451\n",
      "Epoch 7/10\n",
      "110288/110288 [==============================] - 14s 126us/step - loss: 0.4942 - acc: 0.8578 - val_loss: nan - val_acc: 0.8681\n",
      "Epoch 8/10\n",
      "110288/110288 [==============================] - 14s 126us/step - loss: 0.4208 - acc: 0.8751 - val_loss: nan - val_acc: 0.8833\n",
      "Epoch 9/10\n",
      "110288/110288 [==============================] - 14s 126us/step - loss: 0.3715 - acc: 0.8872 - val_loss: nan - val_acc: 0.8919\n",
      "Epoch 10/10\n",
      "110288/110288 [==============================] - 14s 126us/step - loss: 0.3361 - acc: 0.8959 - val_loss: nan - val_acc: 0.9006\n",
      "new jersey est parfois calme en l' et il est neigeux neigeux avril avril <PAD> <PAD> <PAD> <PAD> <PAD> <PAD> <PAD>\n"
     ]
    }
   ],
   "source": [
    "def embed_model(input_shape, output_sequence_length, english_vocab_size, french_vocab_size):\n",
    "    \"\"\"\n",
    "    Build and train a RNN model using word embedding on x and y\n",
    "    :param input_shape: Tuple of input shape\n",
    "    :param output_sequence_length: Length of output sequence\n",
    "    :param english_vocab_size: Number of unique English words in the dataset\n",
    "    :param french_vocab_size: Number of unique French words in the dataset\n",
    "    :return: Keras model built, but not trained\n",
    "    \"\"\"\n",
    "    # TODO: Implement\n",
    "      \n",
    "    # specify inputs\n",
    "    inputs = Input(shape= (input_shape[1:]))\n",
    "    \n",
    "    \n",
    "    # apply word2vec embeding\n",
    "    embed = Embedding(english_vocab_size, 64)(inputs)\n",
    "    \n",
    "    \n",
    "    # apply GRU to retains the LSTM's resistance to the vanishing gradient\n",
    "    rnn = GRU(units=french_vocab_size,return_sequences=True)(embed)\n",
    "    \n",
    "    \n",
    "    # apply wrapper to temporal slice\n",
    "    outputs = TimeDistributed(Dense(french_vocab_size,activation='softmax'))(rnn)\n",
    "    \n",
    "    \n",
    "    # include all layers into 'Model' class\n",
    "    model = Model(inputs=inputs, outputs=outputs) \n",
    "    \n",
    "    \n",
    "    \n",
    "    # compile the model\n",
    "    model.compile(loss=sparse_categorical_crossentropy,\\\n",
    "                  optimizer=Adam(),\\\n",
    "                  metrics=['accuracy'])  \n",
    "    \n",
    "    # print model summary\n",
    "    model.summary()\n",
    "    return model\n",
    "tests.test_embed_model(embed_model)\n",
    "\n",
    "\n",
    "\n",
    "# TODO: Reshape the input\n",
    "tmp_x = pad(preproc_english_sentences, preproc_french_sentences.shape[1])\n",
    "\n",
    "# TODO: Train the neural network\n",
    "embed_rnn_model = embed_model(tmp_x.shape,\\\n",
    "                            preproc_french_sentences.shape[1],\\\n",
    "                            len(english_tokenizer.word_index),\\\n",
    "                            len(french_tokenizer.word_index))\n",
    "\n",
    "# fit the model\n",
    "embed_rnn_model.fit(tmp_x,\\\n",
    "                    preproc_french_sentences,\\\n",
    "                    batch_size=1024,\\\n",
    "                    epochs=10,\\\n",
    "                    validation_split=0.2)\n",
    "\n",
    "\n",
    "# TODO: Print prediction(s)\n",
    "print(logits_to_text(embed_rnn_model.predict(tmp_x[:1])[0], french_tokenizer))"
   ]
  },
  {
   "cell_type": "code",
   "execution_count": 14,
   "metadata": {},
   "outputs": [
    {
     "name": "stdout",
     "output_type": "stream",
     "text": [
      "Model Accuracy: 90.19%\n"
     ]
    }
   ],
   "source": [
    "embed_rnn_model_scores = embed_rnn_model.evaluate(tmp_x, preproc_french_sentences, verbose=0)\n",
    "print(\"Model Accuracy: %.2f%%\" % (embed_rnn_model_scores[1]*100))"
   ]
  },
  {
   "cell_type": "markdown",
   "metadata": {},
   "source": [
    "### Model 3: Bidirectional RNNs (IMPLEMENTATION)\n",
    "![RNN](images/bidirectional.png)\n",
    "One restriction of a RNN is that it can't see the future input, only the past.  This is where bidirectional recurrent neural networks come in.  They are able to see the future data.\n",
    "\n",
    "### Model 3: Bidirectional RNNs (IMPLEMENTATION)\n",
    "![RNN](images/bidirectional.png)\n",
    "One restriction of a RNN is that it can't see the future input, only the past.  This is where bidirectional recurrent neural networks come in.  They are able to see the future data."
   ]
  },
  {
   "cell_type": "code",
   "execution_count": 15,
   "metadata": {},
   "outputs": [
    {
     "name": "stdout",
     "output_type": "stream",
     "text": [
      "_________________________________________________________________\n",
      "Layer (type)                 Output Shape              Param #   \n",
      "=================================================================\n",
      "bidirectional_1 (Bidirection (None, 21, 688)           714144    \n",
      "_________________________________________________________________\n",
      "time_distributed_5 (TimeDist (None, 21, 344)           237016    \n",
      "=================================================================\n",
      "Total params: 951,160\n",
      "Trainable params: 951,160\n",
      "Non-trainable params: 0\n",
      "_________________________________________________________________\n",
      "_________________________________________________________________\n",
      "Layer (type)                 Output Shape              Param #   \n",
      "=================================================================\n",
      "bidirectional_2 (Bidirection (None, 21, 688)           714144    \n",
      "_________________________________________________________________\n",
      "time_distributed_6 (TimeDist (None, 21, 344)           237016    \n",
      "=================================================================\n",
      "Total params: 951,160\n",
      "Trainable params: 951,160\n",
      "Non-trainable params: 0\n",
      "_________________________________________________________________\n",
      "Train on 110288 samples, validate on 27573 samples\n",
      "Epoch 1/10\n",
      "110288/110288 [==============================] - 23s 206us/step - loss: 2.0037 - acc: 0.5603 - val_loss: nan - val_acc: 0.6177\n",
      "Epoch 2/10\n",
      "110288/110288 [==============================] - 22s 201us/step - loss: 1.2975 - acc: 0.6369 - val_loss: nan - val_acc: 0.6521\n",
      "Epoch 3/10\n",
      "110288/110288 [==============================] - 22s 201us/step - loss: 1.1491 - acc: 0.6646 - val_loss: nan - val_acc: 0.6739\n",
      "Epoch 4/10\n",
      "110288/110288 [==============================] - 22s 201us/step - loss: 1.0539 - acc: 0.6828 - val_loss: nan - val_acc: 0.6909\n",
      "Epoch 5/10\n",
      "110288/110288 [==============================] - 22s 201us/step - loss: 0.9786 - acc: 0.6956 - val_loss: nan - val_acc: 0.6981\n",
      "Epoch 6/10\n",
      "110288/110288 [==============================] - 22s 201us/step - loss: 0.9240 - acc: 0.7050 - val_loss: nan - val_acc: 0.7111\n",
      "Epoch 7/10\n",
      "110288/110288 [==============================] - 22s 201us/step - loss: 0.8841 - acc: 0.7114 - val_loss: nan - val_acc: 0.7140\n",
      "Epoch 8/10\n",
      "110288/110288 [==============================] - 22s 201us/step - loss: 0.8448 - acc: 0.7194 - val_loss: nan - val_acc: 0.7241\n",
      "Epoch 9/10\n",
      "110288/110288 [==============================] - 22s 201us/step - loss: 0.8138 - acc: 0.7257 - val_loss: nan - val_acc: 0.7291\n",
      "Epoch 10/10\n",
      "110288/110288 [==============================] - 22s 201us/step - loss: 0.7826 - acc: 0.7339 - val_loss: nan - val_acc: 0.7384\n",
      "new jersey est parfois calme en mois et il et est est en <PAD> <PAD> <PAD> <PAD> <PAD> <PAD> <PAD> <PAD>\n"
     ]
    }
   ],
   "source": [
    "from keras.models import Sequential\n",
    "from keras.layers import Bidirectional\n",
    "\n",
    "def bd_model(input_shape, output_sequence_length, english_vocab_size, french_vocab_size):\n",
    "    \"\"\"\n",
    "    Build and train a bidirectional RNN model on x and y\n",
    "    :param input_shape: Tuple of input shape\n",
    "    :param output_sequence_length: Length of output sequence\n",
    "    :param english_vocab_size: Number of unique English words in the dataset\n",
    "    :param french_vocab_size: Number of unique French words in the dataset\n",
    "    :return: Keras model built, but not trained\n",
    "    \"\"\"\n",
    "    # TODO: Implement\n",
    "    \n",
    "    # start the model \n",
    "    model = Sequential()\n",
    "    \n",
    "    \n",
    "    # apply 'Bidirectional' layer to extract past and future information\n",
    "    model.add(Bidirectional(GRU(units=french_vocab_size,\\\n",
    "                                return_sequences=True),\\\n",
    "                                input_shape = (input_shape[1:])))\n",
    "    \n",
    "    \n",
    "    # apply wrapper to temporal slice\n",
    "    model.add(TimeDistributed(Dense(french_vocab_size,activation='softmax')))\n",
    "    \n",
    "    \n",
    "    # compile the model\n",
    "    model.compile(loss=sparse_categorical_crossentropy,\n",
    "                  optimizer=Adam(),\n",
    "                  metrics=['accuracy']) \n",
    "    \n",
    "    \n",
    "    # print model summary\n",
    "    model.summary()\n",
    "    \n",
    "    return model\n",
    " \n",
    "tests.test_bd_model(bd_model)\n",
    "\n",
    "# TODO: Train and Print prediction(s)\n",
    "\n",
    "# Reshaping the input to work with a basic RNN\n",
    "tmp_x = pad(preproc_english_sentences, preproc_french_sentences.shape[1])\n",
    "tmp_x = tmp_x.reshape((-1, preproc_french_sentences.shape[-2], 1))\n",
    "\n",
    "# Train the neural network\n",
    "bd_rnn_model = bd_model(tmp_x.shape,\\\n",
    "                        preproc_french_sentences.shape[1],\\\n",
    "                        len(english_tokenizer.word_index),\\\n",
    "                        len(french_tokenizer.word_index))\n",
    "\n",
    "# fit the model\n",
    "bd_rnn_model.fit(tmp_x,\\\n",
    "                 preproc_french_sentences,\\\n",
    "                 batch_size=1024,\\\n",
    "                 epochs=10,\\\n",
    "                 validation_split=0.2)\n",
    "\n",
    "\n",
    "# Print prediction(s)\n",
    "print(logits_to_text(bd_rnn_model.predict(tmp_x[:1])[0], french_tokenizer))"
   ]
  },
  {
   "cell_type": "code",
   "execution_count": 16,
   "metadata": {},
   "outputs": [
    {
     "name": "stdout",
     "output_type": "stream",
     "text": [
      "Model Accuracy: 73.90%\n"
     ]
    }
   ],
   "source": [
    "bd_rnn_model_scores = bd_rnn_model.evaluate(tmp_x, preproc_french_sentences, verbose=0)\n",
    "print(\"Model Accuracy: %.2f%%\" % (bd_rnn_model_scores[1]*100))"
   ]
  },
  {
   "cell_type": "markdown",
   "metadata": {},
   "source": [
    "### Model 4: Encoder-Decoder (OPTIONAL)\n",
    "Time to look at encoder-decoder models.  This model is made up of an encoder and decoder. The encoder creates a matrix representation of the sentence.  The decoder takes this matrix as input and predicts the translation as output.\n",
    "\n",
    "Create an encoder-decoder model in the cell below.\n",
    "\n",
    "### نموذج 4: فك التشفير (اختياري)\n",
    "حان الوقت للنظر في نماذج فك التشفير.  يتكون هذا النموذج من التشفير وفك الترميز. يقوم التشفير بإنشاء تمثيل مصفوفة للجملة.  يأخذ وحدة فك الترميز هذه المصفوفة كإدخال ويتنبأ بالترجمة كمخرج.\n",
    "\n",
    "إنشاء نموذج فك ترميز التشفير في الخلية أدناه."
   ]
  },
  {
   "cell_type": "code",
   "execution_count": 17,
   "metadata": {},
   "outputs": [
    {
     "name": "stdout",
     "output_type": "stream",
     "text": [
      "inputs.shape (?, 15, 1)\n",
      "encoded_shape (?, 344)\n",
      "decoded_shape (?, 21, 344)\n",
      "_________________________________________________________________\n",
      "Layer (type)                 Output Shape              Param #   \n",
      "=================================================================\n",
      "input_5 (InputLayer)         (None, 15, 1)             0         \n",
      "_________________________________________________________________\n",
      "gru_7 (GRU)                  (None, 344)               357072    \n",
      "_________________________________________________________________\n",
      "repeat_vector_1 (RepeatVecto (None, 21, 344)           0         \n",
      "_________________________________________________________________\n",
      "gru_8 (GRU)                  (None, 21, 344)           711048    \n",
      "_________________________________________________________________\n",
      "time_distributed_7 (TimeDist (None, 21, 344)           118680    \n",
      "=================================================================\n",
      "Total params: 1,186,800\n",
      "Trainable params: 1,186,800\n",
      "Non-trainable params: 0\n",
      "_________________________________________________________________\n",
      "inputs.shape (?, 21, 1)\n",
      "encoded_shape (?, 344)\n",
      "decoded_shape (?, 21, 344)\n",
      "_________________________________________________________________\n",
      "Layer (type)                 Output Shape              Param #   \n",
      "=================================================================\n",
      "input_6 (InputLayer)         (None, 21, 1)             0         \n",
      "_________________________________________________________________\n",
      "gru_9 (GRU)                  (None, 344)               357072    \n",
      "_________________________________________________________________\n",
      "repeat_vector_2 (RepeatVecto (None, 21, 344)           0         \n",
      "_________________________________________________________________\n",
      "gru_10 (GRU)                 (None, 21, 344)           711048    \n",
      "_________________________________________________________________\n",
      "time_distributed_8 (TimeDist (None, 21, 344)           118680    \n",
      "=================================================================\n",
      "Total params: 1,186,800\n",
      "Trainable params: 1,186,800\n",
      "Non-trainable params: 0\n",
      "_________________________________________________________________\n",
      "_________________________________________________________________\n",
      "Layer (type)                 Output Shape              Param #   \n",
      "=================================================================\n",
      "input_6 (InputLayer)         (None, 21, 1)             0         \n",
      "_________________________________________________________________\n",
      "gru_9 (GRU)                  (None, 344)               357072    \n",
      "_________________________________________________________________\n",
      "repeat_vector_2 (RepeatVecto (None, 21, 344)           0         \n",
      "_________________________________________________________________\n",
      "gru_10 (GRU)                 (None, 21, 344)           711048    \n",
      "_________________________________________________________________\n",
      "time_distributed_8 (TimeDist (None, 21, 344)           118680    \n",
      "=================================================================\n",
      "Total params: 1,186,800\n",
      "Trainable params: 1,186,800\n",
      "Non-trainable params: 0\n",
      "_________________________________________________________________\n",
      "Train on 110288 samples, validate on 27573 samples\n",
      "Epoch 1/10\n",
      "110288/110288 [==============================] - 25s 231us/step - loss: 2.8197 - acc: 0.4551 - val_loss: nan - val_acc: 0.5056\n",
      "Epoch 2/10\n",
      "110288/110288 [==============================] - 25s 224us/step - loss: 2.0424 - acc: 0.5287 - val_loss: nan - val_acc: 0.5595\n",
      "Epoch 3/10\n",
      "110288/110288 [==============================] - 25s 224us/step - loss: 1.6583 - acc: 0.5643 - val_loss: nan - val_acc: 0.5800\n",
      "Epoch 4/10\n",
      "110288/110288 [==============================] - 25s 224us/step - loss: 1.5031 - acc: 0.5928 - val_loss: nan - val_acc: 0.6091\n",
      "Epoch 5/10\n",
      "110288/110288 [==============================] - 25s 224us/step - loss: 1.3996 - acc: 0.6130 - val_loss: nan - val_acc: 0.6279\n",
      "Epoch 6/10\n",
      "110288/110288 [==============================] - 25s 224us/step - loss: 1.3316 - acc: 0.6263 - val_loss: nan - val_acc: 0.6338\n",
      "Epoch 7/10\n",
      "110288/110288 [==============================] - 25s 224us/step - loss: 1.2938 - acc: 0.6320 - val_loss: nan - val_acc: 0.6230\n",
      "Epoch 8/10\n",
      "110288/110288 [==============================] - 25s 224us/step - loss: 1.2582 - acc: 0.6373 - val_loss: nan - val_acc: 0.6407\n",
      "Epoch 9/10\n",
      "110288/110288 [==============================] - 25s 224us/step - loss: 1.2226 - acc: 0.6417 - val_loss: nan - val_acc: 0.6398\n",
      "Epoch 10/10\n",
      "110288/110288 [==============================] - 25s 224us/step - loss: 1.2007 - acc: 0.6443 - val_loss: nan - val_acc: 0.6492\n",
      "new jersey est généralement agréable en mois et il est est en en <PAD> <PAD> <PAD> <PAD> <PAD> <PAD> <PAD> <PAD>\n"
     ]
    }
   ],
   "source": [
    "def encdec_model(input_shape, output_sequence_length, english_vocab_size, french_vocab_size):\n",
    "    \"\"\"\n",
    "    Build and train an encoder-decoder model on x and y\n",
    "    :param input_shape: Tuple of input shape\n",
    "    :param output_sequence_length: Length of output sequence\n",
    "    :param english_vocab_size: Number of unique English words in the dataset\n",
    "    :param french_vocab_size: Number of unique French words in the dataset\n",
    "    :return: Keras model built, but not trained\n",
    "    \"\"\"\n",
    "    # OPTIONAL: Implement\n",
    "    # encoder section-----------------\n",
    "    \n",
    "    # specify inputs\n",
    "    inputs = Input(shape=input_shape[1:]) \n",
    "    print ('inputs.shape', inputs.shape)\n",
    "    \n",
    "    # prepare encoder layer\n",
    "    encoded = GRU(units=french_vocab_size,return_sequences=False)(inputs)\n",
    "    print ('encoded_shape', encoded.shape)\n",
    "    \n",
    "    \n",
    "    \n",
    "    \n",
    "    # decoder section -----------------\n",
    "    \n",
    "    # repeat vector is adapter to fit incoder to decoder dimensionality\n",
    "    decoded = RepeatVector(output_sequence_length)(encoded)\n",
    "    print ('decoded_shape', decoded.shape)\n",
    "    \n",
    "    # prepare decoder layer\n",
    "    decoded = GRU(units=french_vocab_size,return_sequences=True)(decoded)\n",
    "    \n",
    "    # apply wrapper to temporal slice\n",
    "    outputs = TimeDistributed(Dense(french_vocab_size,activation='softmax'))(decoded)\n",
    "    \n",
    "    \n",
    "    \n",
    "    \n",
    "    # bring it together ----------------\n",
    "    \n",
    "    # include all layers into 'Model' class\n",
    "    model = Model(inputs=inputs, outputs=outputs) \n",
    "    \n",
    "    \n",
    "    # compile the model\n",
    "    model.compile(loss=sparse_categorical_crossentropy,\n",
    "                  optimizer=Adam(),\n",
    "                  metrics=['accuracy'])\n",
    "    \n",
    "    \n",
    "    # print model summary\n",
    "    model.summary()\n",
    "    \n",
    "    \n",
    "    return model\n",
    "    \n",
    "tests.test_encdec_model(encdec_model)\n",
    "\n",
    "\n",
    "# OPTIONAL: Train and Print prediction(s)\n",
    "\n",
    "\n",
    "# Reshaping the input to work with a basic RNN\n",
    "tmp_x = pad(preproc_english_sentences, preproc_french_sentences.shape[1])\n",
    "tmp_x = tmp_x.reshape((-1, preproc_french_sentences.shape[-2], 1))\n",
    "\n",
    "# Train the neural network\n",
    "encdec_rnn_model = encdec_model(tmp_x.shape,\\\n",
    "                            preproc_french_sentences.shape[1],\\\n",
    "                            len(english_tokenizer.word_index),\\\n",
    "                            len(french_tokenizer.word_index))\n",
    "\n",
    "\n",
    "encdec_rnn_model.summary()\n",
    "encdec_rnn_model.fit(tmp_x, preproc_french_sentences, batch_size=1024, epochs=10, validation_split=0.2)\n",
    "\n",
    "\n",
    "# Print prediction(s)\n",
    "print(logits_to_text(encdec_rnn_model.predict(tmp_x[:1])[0], french_tokenizer))"
   ]
  },
  {
   "cell_type": "code",
   "execution_count": 18,
   "metadata": {},
   "outputs": [
    {
     "name": "stdout",
     "output_type": "stream",
     "text": [
      "Model Accuracy: 64.91%\n"
     ]
    }
   ],
   "source": [
    "encdec_rnn_model_scores = encdec_rnn_model.evaluate(tmp_x, preproc_french_sentences, verbose=0)\n",
    "print(\"Model Accuracy: %.2f%%\" % (encdec_rnn_model_scores[1]*100))"
   ]
  },
  {
   "cell_type": "markdown",
   "metadata": {},
   "source": [
    "### Model 5: Custom (IMPLEMENTATION)\n",
    "Use everything you learned from the previous models to create a model that incorporates embedding and a bidirectional rnn into one model."
   ]
  },
  {
   "cell_type": "code",
   "execution_count": 20,
   "metadata": {},
   "outputs": [
    {
     "name": "stdout",
     "output_type": "stream",
     "text": [
      "_________________________________________________________________\n",
      "Layer (type)                 Output Shape              Param #   \n",
      "=================================================================\n",
      "embedding_4 (Embedding)      (None, 15, 64)            12736     \n",
      "_________________________________________________________________\n",
      "bidirectional_4 (Bidirection (None, 512)               493056    \n",
      "_________________________________________________________________\n",
      "repeat_vector_4 (RepeatVecto (None, 21, 512)           0         \n",
      "_________________________________________________________________\n",
      "bidirectional_5 (Bidirection (None, 21, 512)           1181184   \n",
      "_________________________________________________________________\n",
      "time_distributed_9 (TimeDist (None, 21, 344)           176472    \n",
      "=================================================================\n",
      "Total params: 1,863,448\n",
      "Trainable params: 1,863,448\n",
      "Non-trainable params: 0\n",
      "_________________________________________________________________\n",
      "Final Model Loaded\n"
     ]
    }
   ],
   "source": [
    "def model_final(input_shape, output_sequence_length, english_vocab_size, french_vocab_size):\n",
    "    \"\"\"\n",
    "    Build and train a model that incorporates embedding, encoder-decoder, and bidirectional RNN on x and y\n",
    "    :param input_shape: Tuple of input shape\n",
    "    :param output_sequence_length: Length of output sequence\n",
    "    :param english_vocab_size: Number of unique English words in the dataset\n",
    "    :param french_vocab_size: Number of unique French words in the dataset\n",
    "    :return: Keras model built, but not trained\n",
    "    \"\"\"\n",
    "     # TODO: Implement\n",
    "    \n",
    "    # specify inputs\n",
    "    input_length=input_shape[1]\n",
    "    \n",
    "    # start the model\n",
    "    model = Sequential()\n",
    "    \n",
    "    # apply word2vec embedding\n",
    "    model.add(Embedding(english_vocab_size, 64, input_length=input_length))\n",
    "    \n",
    "    \n",
    "    # allow past and future information extraction by 'bidirectional' layer\n",
    "    model.add(Bidirectional(GRU(units=256,\\\n",
    "                                return_sequences=False,\\\n",
    "                                dropout = 0.2,\\\n",
    "                                recurrent_dropout = 0.2)))\n",
    "    \n",
    "    \n",
    "    # allow repeatition of vector by 'RepeatVector' to fit dimentionality\n",
    "    model.add(RepeatVector(output_sequence_length))\n",
    "    \n",
    "    \n",
    "    # allow past and future information extraction by 'bidirectional' layer\n",
    "    model.add(Bidirectional(GRU(units=256,\\\n",
    "                                return_sequences=True,\\\n",
    "                                dropout = 0.2,\\\n",
    "                                recurrent_dropout = 0.2)))\n",
    "    \n",
    "    \n",
    "    # apply wrapper to temporal slice\n",
    "    model.add(TimeDistributed(Dense(french_vocab_size,activation='softmax')))\n",
    "    \n",
    "    \n",
    "    # compile the model\n",
    "    model.compile(loss=sparse_categorical_crossentropy,\\\n",
    "                  optimizer=Adam(lr=0.01, decay=0.001),\\\n",
    "                  metrics=['accuracy'])\n",
    "    \n",
    "    \n",
    "    # print model summary\n",
    "    model.summary()\n",
    "    \n",
    "    return model\n",
    "    \n",
    "    \n",
    "    \n",
    "tests.test_model_final(model_final)\n",
    "\n",
    "\n",
    "print('Final Model Loaded')"
   ]
  },
  {
   "cell_type": "markdown",
   "metadata": {},
   "source": [
    "## Prediction (IMPLEMENTATION)"
   ]
  },
  {
   "cell_type": "code",
   "execution_count": 21,
   "metadata": {},
   "outputs": [
    {
     "name": "stdout",
     "output_type": "stream",
     "text": [
      "_________________________________________________________________\n",
      "Layer (type)                 Output Shape              Param #   \n",
      "=================================================================\n",
      "embedding_5 (Embedding)      (None, 15, 64)            12736     \n",
      "_________________________________________________________________\n",
      "bidirectional_6 (Bidirection (None, 512)               493056    \n",
      "_________________________________________________________________\n",
      "repeat_vector_5 (RepeatVecto (None, 21, 512)           0         \n",
      "_________________________________________________________________\n",
      "bidirectional_7 (Bidirection (None, 21, 512)           1181184   \n",
      "_________________________________________________________________\n",
      "time_distributed_10 (TimeDis (None, 21, 344)           176472    \n",
      "=================================================================\n",
      "Total params: 1,863,448\n",
      "Trainable params: 1,863,448\n",
      "Non-trainable params: 0\n",
      "_________________________________________________________________\n",
      "Train on 110288 samples, validate on 27573 samples\n",
      "Epoch 1/20\n",
      "110288/110288 [==============================] - 43s 388us/step - loss: 2.2358 - acc: 0.5084 - val_loss: nan - val_acc: 0.6671\n",
      "Epoch 2/20\n",
      "110288/110288 [==============================] - 41s 374us/step - loss: 1.1064 - acc: 0.6874 - val_loss: nan - val_acc: 0.7330\n",
      "Epoch 3/20\n",
      "110288/110288 [==============================] - 41s 374us/step - loss: 0.8461 - acc: 0.7493 - val_loss: nan - val_acc: 0.8059\n",
      "Epoch 4/20\n",
      "110288/110288 [==============================] - 41s 374us/step - loss: 0.6207 - acc: 0.8126 - val_loss: nan - val_acc: 0.8672\n",
      "Epoch 5/20\n",
      "110288/110288 [==============================] - 41s 374us/step - loss: 0.4519 - acc: 0.8633 - val_loss: nan - val_acc: 0.9166\n",
      "Epoch 6/20\n",
      "110288/110288 [==============================] - 41s 374us/step - loss: 0.3360 - acc: 0.8998 - val_loss: nan - val_acc: 0.9365\n",
      "Epoch 7/20\n",
      "110288/110288 [==============================] - 41s 374us/step - loss: 0.2947 - acc: 0.9124 - val_loss: nan - val_acc: 0.9422\n",
      "Epoch 8/20\n",
      "110288/110288 [==============================] - 41s 374us/step - loss: 0.2450 - acc: 0.9269 - val_loss: nan - val_acc: 0.9536\n",
      "Epoch 9/20\n",
      "110288/110288 [==============================] - 41s 374us/step - loss: 0.2102 - acc: 0.9369 - val_loss: nan - val_acc: 0.9585\n",
      "Epoch 10/20\n",
      "110288/110288 [==============================] - 41s 374us/step - loss: 0.1878 - acc: 0.9437 - val_loss: nan - val_acc: 0.9623\n",
      "Epoch 11/20\n",
      "110288/110288 [==============================] - 41s 374us/step - loss: 0.1702 - acc: 0.9488 - val_loss: nan - val_acc: 0.9655\n",
      "Epoch 12/20\n",
      "110288/110288 [==============================] - 41s 373us/step - loss: 0.1564 - acc: 0.9529 - val_loss: nan - val_acc: 0.9669\n",
      "Epoch 13/20\n",
      "110288/110288 [==============================] - 41s 374us/step - loss: 0.1517 - acc: 0.9539 - val_loss: nan - val_acc: 0.9688\n",
      "Epoch 14/20\n",
      "110288/110288 [==============================] - 41s 374us/step - loss: 0.1502 - acc: 0.9545 - val_loss: nan - val_acc: 0.9706\n",
      "Epoch 15/20\n",
      "110288/110288 [==============================] - 41s 374us/step - loss: 0.1322 - acc: 0.9598 - val_loss: nan - val_acc: 0.9723\n",
      "Epoch 16/20\n",
      "110288/110288 [==============================] - 41s 374us/step - loss: 0.1331 - acc: 0.9594 - val_loss: nan - val_acc: 0.9726\n",
      "Epoch 17/20\n",
      "110288/110288 [==============================] - 41s 374us/step - loss: 0.1215 - acc: 0.9629 - val_loss: nan - val_acc: 0.9743\n",
      "Epoch 18/20\n",
      "110288/110288 [==============================] - 41s 374us/step - loss: 0.1223 - acc: 0.9625 - val_loss: nan - val_acc: 0.9723\n",
      "Epoch 19/20\n",
      "110288/110288 [==============================] - 41s 374us/step - loss: 0.1205 - acc: 0.9631 - val_loss: nan - val_acc: 0.9750\n",
      "Epoch 20/20\n",
      "110288/110288 [==============================] - 41s 374us/step - loss: 0.1111 - acc: 0.9661 - val_loss: nan - val_acc: 0.9762\n",
      "Sample 1:\n",
      "il a vu un vieux camion jaune <PAD> <PAD> <PAD> <PAD> <PAD> <PAD> <PAD> <PAD> <PAD> <PAD> <PAD> <PAD> <PAD> <PAD>\n",
      "Il a vu un vieux camion jaune\n",
      "Sample 2:\n",
      "new jersey est parfois calme pendant l' automne et il est neigeux en avril <PAD> <PAD> <PAD> <PAD> <PAD> <PAD> <PAD>\n",
      "new jersey est parfois calme pendant l' automne et il est neigeux en avril <PAD> <PAD> <PAD> <PAD> <PAD> <PAD> <PAD>\n"
     ]
    }
   ],
   "source": [
    "def final_predictions(x, y, x_tk, y_tk):\n",
    "    \"\"\"\n",
    "    Gets predictions using the final model\n",
    "    :param x: Preprocessed English data\n",
    "    :param y: Preprocessed French data\n",
    "    :param x_tk: English tokenizer\n",
    "    :param y_tk: French tokenizer\n",
    "    \"\"\"\n",
    "    # TODO: Train neural network using model_final\n",
    "    tmp_x = pad(x, x.shape[1])\n",
    "\n",
    "    # Train the neural network\n",
    "    final_model = model_final(\n",
    "        tmp_x.shape,\n",
    "        y.shape[1],\n",
    "        len(x_tk.word_index),\n",
    "        len(y_tk.word_index))\n",
    "    final_model.fit(tmp_x, y, batch_size=1024, epochs=20, validation_split=0.2)\n",
    "    \n",
    "    model = final_model\n",
    "\n",
    "    \n",
    "    ## DON'T EDIT ANYTHING BELOW THIS LINE\n",
    "    y_id_to_word = {value: key for key, value in y_tk.word_index.items()}\n",
    "    y_id_to_word[0] = '<PAD>'\n",
    "\n",
    "    sentence = 'he saw a old yellow truck'\n",
    "    sentence = [x_tk.word_index[word] for word in sentence.split()]\n",
    "    sentence = pad_sequences([sentence], maxlen=x.shape[-1], padding='post')\n",
    "    sentences = np.array([sentence[0], x[0]])\n",
    "    predictions = model.predict(sentences, len(sentences))\n",
    "\n",
    "    print('Sample 1:')\n",
    "    print(' '.join([y_id_to_word[np.argmax(x)] for x in predictions[0]]))\n",
    "    print('Il a vu un vieux camion jaune')\n",
    "    print('Sample 2:')\n",
    "    print(' '.join([y_id_to_word[np.argmax(x)] for x in predictions[1]]))\n",
    "    print(' '.join([y_id_to_word[np.max(x)] for x in y[0]]))\n",
    "    return model, predictions\n",
    "\n",
    "final_model, predictions = final_predictions(preproc_english_sentences, preproc_french_sentences, english_tokenizer, french_tokenizer)"
   ]
  },
  {
   "cell_type": "code",
   "execution_count": 22,
   "metadata": {},
   "outputs": [
    {
     "name": "stdout",
     "output_type": "stream",
     "text": [
      "Model Accuracy: 98.05%\n"
     ]
    }
   ],
   "source": [
    "final_rnn_model_scores = final_model.evaluate(preproc_english_sentences, preproc_french_sentences, verbose=0)\n",
    "print(\"Model Accuracy: %.2f%%\" % (final_rnn_model_scores[1]*100))"
   ]
  },
  {
   "cell_type": "markdown",
   "metadata": {},
   "source": [
    "## Submission\n",
    "When you're ready to submit, complete the following steps:\n",
    "1. Review the [rubric](https://review.udacity.com/#!/rubrics/1004/view) to ensure your submission meets all requirements to pass\n",
    "2. Generate an HTML version of this notebook\n",
    "\n",
    "  - Run the next cell to attempt automatic generation (this is the recommended method in Workspaces)\n",
    "  - Navigate to **FILE -> Download as -> HTML (.html)**\n",
    "  - Manually generate a copy using `nbconvert` from your shell terminal\n",
    "```\n",
    "$ pip install nbconvert\n",
    "$ python -m nbconvert machine_translation.ipynb\n",
    "```\n",
    "  \n",
    "3. Submit the project\n",
    "\n",
    "  - If you are in a Workspace, simply click the \"Submit Project\" button (bottom towards the right)\n",
    "  \n",
    "  - Otherwise, add the following files into a zip archive and submit them \n",
    "  - `helper.py`\n",
    "  - `machine_translation.ipynb`\n",
    "  - `machine_translation.html`\n",
    "    - You can export the notebook by navigating to **File -> Download as -> HTML (.html)**."
   ]
  },
  {
   "cell_type": "markdown",
   "metadata": {},
   "source": [
    "### Generate the html\n",
    "\n",
    "**Save your notebook before running the next cell to generate the HTML output.** Then submit your project."
   ]
  },
  {
   "cell_type": "code",
   "execution_count": 2,
   "metadata": {},
   "outputs": [
    {
     "data": {
      "text/plain": [
       "['[NbConvertApp] Converting notebook machine_translation.ipynb to html',\n",
       " '[NbConvertApp] Writing 305996 bytes to machine_translation.html']"
      ]
     },
     "execution_count": 2,
     "metadata": {},
     "output_type": "execute_result"
    }
   ],
   "source": [
    "# Save before you run this cell!\n",
    "!!jupyter nbconvert *.ipynb"
   ]
  },
  {
   "cell_type": "markdown",
   "metadata": {},
   "source": [
    "## Optional Enhancements\n",
    "\n",
    "This project focuses on learning various network architectures for machine translation, but we don't evaluate the models according to best practices by splitting the data into separate test & training sets -- so the model accuracy is overstated. Use the [`sklearn.model_selection.train_test_split()`](http://scikit-learn.org/stable/modules/generated/sklearn.model_selection.train_test_split.html) function to create separate training & test datasets, then retrain each of the models using only the training set and evaluate the prediction accuracy using the hold out test set. Does the \"best\" model change?"
   ]
  }
 ],
 "metadata": {
  "kernelspec": {
   "display_name": "Python 3",
   "language": "python",
   "name": "python3"
  },
  "language_info": {
   "codemirror_mode": {
    "name": "ipython",
    "version": 3
   },
   "file_extension": ".py",
   "mimetype": "text/x-python",
   "name": "python",
   "nbconvert_exporter": "python",
   "pygments_lexer": "ipython3",
   "version": "3.6.3"
  }
 },
 "nbformat": 4,
 "nbformat_minor": 1
}
